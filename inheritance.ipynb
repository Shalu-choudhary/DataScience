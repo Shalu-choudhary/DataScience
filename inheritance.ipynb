{
 "cells": [
  {
   "cell_type": "code",
   "execution_count": 1,
   "metadata": {},
   "outputs": [],
   "source": [
    "### inheritance---->\n"
   ]
  },
  {
   "cell_type": "code",
   "execution_count": 3,
   "metadata": {},
   "outputs": [],
   "source": [
    "# single inheritance without constructor:->\n",
    "class Faculty:\n",
    "    college_name='gweca'\n",
    "    total_staff=50\n",
    "    \n",
    "# syntex- Class child class name(parant class name)\n",
    "\n",
    "\n",
    "class Student(Faculty):\n",
    "    total_stu=2000\n",
    "    branch='cse'"
   ]
  },
  {
   "cell_type": "code",
   "execution_count": 4,
   "metadata": {},
   "outputs": [],
   "source": [
    "fac_obj=Faculty()\n",
    "#fac_obj."
   ]
  },
  {
   "cell_type": "code",
   "execution_count": 7,
   "metadata": {},
   "outputs": [
    {
     "data": {
      "text/plain": [
       "50"
      ]
     },
     "execution_count": 7,
     "metadata": {},
     "output_type": "execute_result"
    }
   ],
   "source": [
    "stu_obj=Student()\n",
    "stu_obj.total_staff   #access parent class property"
   ]
  },
  {
   "cell_type": "code",
   "execution_count": 52,
   "metadata": {},
   "outputs": [],
   "source": [
    "# single inheritance with constructor\n",
    "class Father:\n",
    "    def __init__(self,fname,fsalary):\n",
    "        self.father_name=fname\n",
    "        self.father_salary=fsalary\n",
    "        print(\"father constructor executed\")\n",
    "    def father_hii(self):\n",
    "        print(\"father name is\",self.father_name)\n",
    "        print(\"father salary is \",self.father_salary)\n",
    "    \n",
    "    \n",
    "class Child(Father):\n",
    "    def __init__(self,dname,dage,fname,fsalary) :\n",
    "        \n",
    "        self.daughter_name=dname\n",
    "        self.daughter_age=dage\n",
    "        #super class cons\n",
    "        super().__init__(fname,fsalary)\n",
    "        print(\"son constructor executed\")\n",
    "    def dau_hii(self):\n",
    "        print(\"daughter name\",self.daughter_name)\n",
    "        print(\"daughter age\",self.daughter_age)\n",
    "    "
   ]
  },
  {
   "cell_type": "code",
   "execution_count": 53,
   "metadata": {},
   "outputs": [
    {
     "name": "stdout",
     "output_type": "stream",
     "text": [
      "father constructor executed\n"
     ]
    }
   ],
   "source": [
    "f=Father(fname=\"rajendra\",fsalary=50000)"
   ]
  },
  {
   "cell_type": "code",
   "execution_count": 55,
   "metadata": {},
   "outputs": [
    {
     "name": "stdout",
     "output_type": "stream",
     "text": [
      "father constructor executed\n",
      "son constructor executed\n",
      "father name is rajendra\n",
      "father salary is  47\n"
     ]
    }
   ],
   "source": [
    "d=Child(dname=\"shalu\",dage=20,fname=\"rajendra\",fsalary=47)\n",
    "d.father_hii()"
   ]
  },
  {
   "cell_type": "code",
   "execution_count": 43,
   "metadata": {},
   "outputs": [
    {
     "name": "stdout",
     "output_type": "stream",
     "text": [
      "father name is rajendra\n",
      "father salary is  50000\n",
      "daughter name shalu\n",
      "daughter age 20\n"
     ]
    }
   ],
   "source": [
    "f.father_hii()\n",
    "d.dau_hii()\n"
   ]
  },
  {
   "cell_type": "code",
   "execution_count": 29,
   "metadata": {},
   "outputs": [
    {
     "data": {
      "text/plain": [
       "20"
      ]
     },
     "execution_count": 29,
     "metadata": {},
     "output_type": "execute_result"
    }
   ],
   "source": [
    "d.daughter_age"
   ]
  },
  {
   "cell_type": "code",
   "execution_count": 56,
   "metadata": {},
   "outputs": [
    {
     "name": "stdout",
     "output_type": "stream",
     "text": [
      "father name is rajendra\n",
      "father salary is  47\n"
     ]
    }
   ],
   "source": [
    "d.father_hii()"
   ]
  },
  {
   "cell_type": "code",
   "execution_count": 57,
   "metadata": {},
   "outputs": [],
   "source": [
    "class manager:\n",
    "    def __init__(self,manager_name,manager_dep):\n",
    "        self.manager_name=manager_name\n",
    "        self.manager_dep=manager_dep\n",
    "        print(\"manager constructor executed\")\n",
    "    def manager_hii(self):\n",
    "        print(\"manager name is\",self.manager_name)\n",
    "        print(\"manager dep is \",self.manager_dep)\n",
    "        \n",
    "class Employee(manager):\n",
    "    def __init__(self,ename,eage,manager_name,manager_dep) :\n",
    "        \n",
    "        self.emp_name=ename\n",
    "        self.emp_age=eage\n",
    "        #super class cons\n",
    "        super().__init__(manager_name,manager_dep)\n",
    "        print(\"son constructor executed\")\n",
    "    def emp_hii(self):\n",
    "        print(\"daughter name\",self.emp_name)\n",
    "        print(\"daughter age\",self.emp_age)\n",
    "        "
   ]
  },
  {
   "cell_type": "code",
   "execution_count": 59,
   "metadata": {},
   "outputs": [
    {
     "name": "stdout",
     "output_type": "stream",
     "text": [
      "manager constructor executed\n"
     ]
    }
   ],
   "source": [
    "e=manager(manager_name=\"shalu\",manager_dep=\"cse\"\n",
    "          )"
   ]
  },
  {
   "cell_type": "code",
   "execution_count": 60,
   "metadata": {},
   "outputs": [
    {
     "name": "stdout",
     "output_type": "stream",
     "text": [
      "manager constructor executed\n",
      "son constructor executed\n",
      "manager name is rajendra\n",
      "manager dep is  cse\n"
     ]
    }
   ],
   "source": [
    "e=Employee(ename=\"shalu\",eage=20,manager_name=\"rajendra\",manager_dep=\"cse\")\n",
    "e.manager_hii()"
   ]
  }
 ],
 "metadata": {
  "kernelspec": {
   "display_name": "Python 3",
   "language": "python",
   "name": "python3"
  },
  "language_info": {
   "codemirror_mode": {
    "name": "ipython",
    "version": 3
   },
   "file_extension": ".py",
   "mimetype": "text/x-python",
   "name": "python",
   "nbconvert_exporter": "python",
   "pygments_lexer": "ipython3",
   "version": "3.12.4"
  }
 },
 "nbformat": 4,
 "nbformat_minor": 2
}
