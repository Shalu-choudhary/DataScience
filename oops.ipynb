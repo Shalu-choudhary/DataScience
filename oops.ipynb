{
 "cells": [
  {
   "cell_type": "code",
   "execution_count": null,
   "metadata": {},
   "outputs": [],
   "source": [
    "#oops:-\n",
    "#syntex: class class_name:\n",
    "#            code\n",
    "#object / instance:-\n",
    "# obj_name=class_name()"
   ]
  },
  {
   "cell_type": "code",
   "execution_count": 5,
   "metadata": {},
   "outputs": [],
   "source": [
    "class Student:\n",
    "    name=['shalu','vanshika']\n",
    "    branch='computer science engineering'\n",
    "    college=\"gweca\""
   ]
  },
  {
   "cell_type": "code",
   "execution_count": 6,
   "metadata": {},
   "outputs": [],
   "source": [
    "#object-\n",
    "stu_obj=Student()"
   ]
  },
  {
   "cell_type": "code",
   "execution_count": 7,
   "metadata": {},
   "outputs": [
    {
     "name": "stdout",
     "output_type": "stream",
     "text": [
      "['shalu', 'vanshika']\n"
     ]
    }
   ],
   "source": [
    "print(stu_obj.name)"
   ]
  },
  {
   "cell_type": "code",
   "execution_count": 8,
   "metadata": {},
   "outputs": [
    {
     "name": "stdout",
     "output_type": "stream",
     "text": [
      "computer science engineering\n"
     ]
    }
   ],
   "source": [
    "print(stu_obj.branch)"
   ]
  },
  {
   "cell_type": "code",
   "execution_count": 9,
   "metadata": {},
   "outputs": [],
   "source": [
    "stu_obj.college=\"Geca\"   # we can reassign the value"
   ]
  },
  {
   "cell_type": "code",
   "execution_count": 10,
   "metadata": {},
   "outputs": [
    {
     "name": "stdout",
     "output_type": "stream",
     "text": [
      "Geca\n"
     ]
    }
   ],
   "source": [
    "print(stu_obj.college)"
   ]
  },
  {
   "cell_type": "code",
   "execution_count": 1,
   "metadata": {},
   "outputs": [],
   "source": [
    "class Listfunction:\n",
    "    list=[23,32,34,43,45,54,56,378,87,89,90,98,77]\n",
    "    #class name can in captial or small leter\n",
    "    # create method -- inside the class and pass a parameter self always keep as parameter\n",
    "    # function are created outside the class\n",
    "    \n",
    "    def avg_finder(self):\n",
    "        sum=0\n",
    "        length=0\n",
    "        for i in self.list:\n",
    "             length+=1\n",
    "        print(\"total element in list are\",length)\n",
    "        for i in self.list:\n",
    "            sum+=i\n",
    "           \n",
    "        print(\"avg is\",sum/length)\n",
    "        \n",
    "    def avg_finder_even(self):\n",
    "        avg=0\n",
    "        sum=0\n",
    "        length=0\n",
    "       \n",
    "        for i in self.list :\n",
    "            if (i %2)!=0:\n",
    "                print(\"even no are from list\",i)\n",
    "                length+=1\n",
    "        print(\"total element in list are\",length)\n",
    "        for i in self.list:\n",
    "            if (i %2)!=0:\n",
    "                sum+=i\n",
    "           \n",
    "        print(\"avg is\",round(sum/length,2))\n",
    "            \n",
    "    def listavg_finder_even(self):\n",
    "        avg=0\n",
    "        sum=0\n",
    "        length=0\n",
    "        \n",
    "        for i in self.list :\n",
    "                if i>=0 and i<=50:\n",
    "                 length+=1\n",
    "        print(\"total element in list are\",length)\n",
    "        for i in self.list:\n",
    "                sum+=i\n",
    "           \n",
    "        print(\"avg is\",round(sum/length,2))\n",
    "      \n",
    "        "
   ]
  },
  {
   "cell_type": "code",
   "execution_count": 2,
   "metadata": {},
   "outputs": [],
   "source": [
    "obj=Listfunction()"
   ]
  },
  {
   "cell_type": "code",
   "execution_count": 3,
   "metadata": {},
   "outputs": [
    {
     "data": {
      "text/plain": [
       "[23, 32, 34, 43, 45, 54, 56, 378, 87, 89, 90, 98, 77]"
      ]
     },
     "execution_count": 3,
     "metadata": {},
     "output_type": "execute_result"
    }
   ],
   "source": [
    "obj.list\n",
    "# obj.len_finder()  # give error froom the list bcoz obj is not defined"
   ]
  },
  {
   "cell_type": "code",
   "execution_count": 3,
   "metadata": {},
   "outputs": [
    {
     "name": "stdout",
     "output_type": "stream",
     "text": [
      "total element in list are 13\n",
      "avg is 85.07692307692308\n",
      "even no are from list 23\n",
      "even no are from list 43\n",
      "even no are from list 45\n",
      "even no are from list 87\n",
      "even no are from list 89\n",
      "even no are from list 77\n",
      "total element in list are 6\n",
      "avg is 60.67\n",
      "total element in list are 5\n",
      "avg is 221.2\n"
     ]
    }
   ],
   "source": [
    "obj.avg_finder()  #by self.list  #self--store the address of the object\n",
    "obj.avg_finder_even()\n",
    "obj.listavg_finder_even()"
   ]
  },
  {
   "cell_type": "code",
   "execution_count": 6,
   "metadata": {},
   "outputs": [],
   "source": [
    "#constructor:-\n",
    "class Student:\n",
    "    name=\"shalu choudhary\"\n",
    "    #constructor declare\n",
    "    def __init__(self):\n",
    "        self.student_name=\"shalu \"\n",
    "        self.branch=\"CSE\"\n",
    "        self.college=\"IIT bombay\""
   ]
  },
  {
   "cell_type": "code",
   "execution_count": 7,
   "metadata": {},
   "outputs": [],
   "source": [
    "st1=Student()\n",
    "st2=Student()"
   ]
  },
  {
   "cell_type": "code",
   "execution_count": 8,
   "metadata": {},
   "outputs": [],
   "source": [
    "st2.name=\"vanshika\""
   ]
  },
  {
   "cell_type": "code",
   "execution_count": 9,
   "metadata": {},
   "outputs": [
    {
     "data": {
      "text/plain": [
       "'shalu '"
      ]
     },
     "execution_count": 9,
     "metadata": {},
     "output_type": "execute_result"
    }
   ],
   "source": [
    "st2.student_name"
   ]
  },
  {
   "cell_type": "code",
   "execution_count": 10,
   "metadata": {},
   "outputs": [
    {
     "data": {
      "text/plain": [
       "'shalu choudhary'"
      ]
     },
     "execution_count": 10,
     "metadata": {},
     "output_type": "execute_result"
    }
   ],
   "source": [
    "Student.name"
   ]
  },
  {
   "cell_type": "code",
   "execution_count": 12,
   "metadata": {},
   "outputs": [
    {
     "data": {
      "text/plain": [
       "'vanshika'"
      ]
     },
     "execution_count": 12,
     "metadata": {},
     "output_type": "execute_result"
    }
   ],
   "source": [
    "st2.name"
   ]
  },
  {
   "cell_type": "code",
   "execution_count": 13,
   "metadata": {},
   "outputs": [],
   "source": [
    "class Student:\n",
    "    name=\"shalu choudhary\"\n",
    "    #constructor declare\n",
    "    def __init__(self,name,Student_branch,Student_class):\n",
    "        self.student_name=name\n",
    "        self.branch=Student_branch\n",
    "        self.college=Student_class\n",
    "        print(\" i am executed\")"
   ]
  },
  {
   "cell_type": "code",
   "execution_count": 14,
   "metadata": {},
   "outputs": [
    {
     "name": "stdout",
     "output_type": "stream",
     "text": [
      " i am executed\n",
      " i am executed\n"
     ]
    }
   ],
   "source": [
    "obj=Student(name=\"shalu\",Student_branch=\"cse\",Student_class=\"gweca\")\n",
    "myobj=Student(name=\"eunwoo\",Student_branch=\"AI\",Student_class=\"geca\")"
   ]
  },
  {
   "cell_type": "code",
   "execution_count": 15,
   "metadata": {},
   "outputs": [
    {
     "ename": "TypeError",
     "evalue": "Student.__init__() missing 3 required positional arguments: 'name', 'Student_branch', and 'Student_class'",
     "output_type": "error",
     "traceback": [
      "\u001b[1;31m---------------------------------------------------------------------------\u001b[0m",
      "\u001b[1;31mTypeError\u001b[0m                                 Traceback (most recent call last)",
      "Cell \u001b[1;32mIn[15], line 1\u001b[0m\n\u001b[1;32m----> 1\u001b[0m obj\u001b[38;5;241m=\u001b[39m\u001b[43mStudent\u001b[49m\u001b[43m(\u001b[49m\u001b[43m)\u001b[49m\n\u001b[0;32m      2\u001b[0m obj2\u001b[38;5;241m=\u001b[39mStudent()\n",
      "\u001b[1;31mTypeError\u001b[0m: Student.__init__() missing 3 required positional arguments: 'name', 'Student_branch', and 'Student_class'"
     ]
    }
   ],
   "source": [
    "obj=Student()\n",
    "obj2=Student()"
   ]
  },
  {
   "cell_type": "code",
   "execution_count": 16,
   "metadata": {},
   "outputs": [
    {
     "data": {
      "text/plain": [
       "'shalu'"
      ]
     },
     "execution_count": 16,
     "metadata": {},
     "output_type": "execute_result"
    }
   ],
   "source": [
    "obj.student_name"
   ]
  },
  {
   "cell_type": "code",
   "execution_count": 17,
   "metadata": {},
   "outputs": [
    {
     "data": {
      "text/plain": [
       "'eunwoo'"
      ]
     },
     "execution_count": 17,
     "metadata": {},
     "output_type": "execute_result"
    }
   ],
   "source": [
    "myobj.student_name"
   ]
  },
  {
   "cell_type": "code",
   "execution_count": 18,
   "metadata": {},
   "outputs": [
    {
     "data": {
      "text/plain": [
       "'AI'"
      ]
     },
     "execution_count": 18,
     "metadata": {},
     "output_type": "execute_result"
    }
   ],
   "source": [
    "myobj.branch"
   ]
  },
  {
   "cell_type": "code",
   "execution_count": 11,
   "metadata": {},
   "outputs": [],
   "source": [
    "class My:\n",
    "    name=\"shalu\"\n",
    "    def __init__(self,name=\"shalu\",fname=\"rajendra kareshiya\",mname=\"rekha devi\"):\n",
    "        self.my_name=name\n",
    "        self.my_fname=fname\n",
    "        self.my_mname=mname\n",
    "        print(\"hiiiiii\")"
   ]
  },
  {
   "cell_type": "code",
   "execution_count": 12,
   "metadata": {},
   "outputs": [
    {
     "name": "stdout",
     "output_type": "stream",
     "text": [
      "hiiiiii\n"
     ]
    }
   ],
   "source": [
    "m=My()"
   ]
  },
  {
   "cell_type": "code",
   "execution_count": 13,
   "metadata": {},
   "outputs": [
    {
     "name": "stdout",
     "output_type": "stream",
     "text": [
      "my name is  shalu \n",
      " my father name is  rajendra kareshiya \n",
      " my mother name is  rekha devi\n"
     ]
    }
   ],
   "source": [
    "print(\"my name is \",m.my_name,\"\\n my father name is \",m.my_fname,\"\\n my mother name is \",m.my_mname)"
   ]
  },
  {
   "cell_type": "code",
   "execution_count": null,
   "metadata": {},
   "outputs": [],
   "source": [
    "# 2 class stu,faculty-var\n",
    "#constructor with insatnces var\n",
    "#multiple object ,manuplate,create show_info methode() which is print instance var"
   ]
  },
  {
   "cell_type": "code",
   "execution_count": 30,
   "metadata": {},
   "outputs": [],
   "source": [
    "class Employee:\n",
    "    emp1_name='shalu'\n",
    "    def __init__(self,name,salary,dep): \n",
    "        self.emp_name=name\n",
    "        self. emp_salary=salary\n",
    "        self.emp_department=dep\n",
    "        print(\"i am employee\")\n",
    "# class Department:\n",
    "    def show_info(self):\n",
    "        print(self.emp_name,self.emp_salary,self.emp_department)\n",
    "   "
   ]
  },
  {
   "cell_type": "code",
   "execution_count": 31,
   "metadata": {},
   "outputs": [
    {
     "name": "stdout",
     "output_type": "stream",
     "text": [
      "i am employee\n",
      "i am employee\n"
     ]
    }
   ],
   "source": [
    "emp=Employee(\"shalu\",80000,\"SE\")\n",
    "emp1=Employee(\"vanshika\",80000,\"data scientist\")\n",
    "\n",
    "# dep1=Department()\n",
    "# dep2=Department()"
   ]
  },
  {
   "cell_type": "code",
   "execution_count": 32,
   "metadata": {},
   "outputs": [
    {
     "name": "stdout",
     "output_type": "stream",
     "text": [
      "shalu 80000 SE\n",
      "vanshika 80000 data scientist\n"
     ]
    }
   ],
   "source": [
    "emp.show_info()\n",
    "emp1.show_info()"
   ]
  },
  {
   "cell_type": "code",
   "execution_count": 33,
   "metadata": {},
   "outputs": [
    {
     "data": {
      "text/plain": [
       "'shalu'"
      ]
     },
     "execution_count": 33,
     "metadata": {},
     "output_type": "execute_result"
    }
   ],
   "source": [
    "Employee.emp1_name    # from class name then call only outer code"
   ]
  },
  {
   "cell_type": "code",
   "execution_count": 37,
   "metadata": {},
   "outputs": [
    {
     "name": "stdout",
     "output_type": "stream",
     "text": [
      "monika 80000 SE\n"
     ]
    }
   ],
   "source": [
    "emp.emp_name=\"monika\"\n",
    "emp.show_info()"
   ]
  },
  {
   "cell_type": "code",
   "execution_count": 38,
   "metadata": {},
   "outputs": [
    {
     "data": {
      "text/plain": [
       "'vanshika'"
      ]
     },
     "execution_count": 38,
     "metadata": {},
     "output_type": "execute_result"
    }
   ],
   "source": [
    "emp1.emp_name"
   ]
  },
  {
   "cell_type": "code",
   "execution_count": 35,
   "metadata": {},
   "outputs": [
    {
     "name": "stdout",
     "output_type": "stream",
     "text": [
      "vanshika 80000 data scientist\n"
     ]
    }
   ],
   "source": [
    "print(emp1.emp_name,emp1.emp_salary,emp1.emp_department)"
   ]
  },
  {
   "cell_type": "code",
   "execution_count": 20,
   "metadata": {},
   "outputs": [],
   "source": [
    "class Student:\n",
    "    #class variabl\n",
    "    college_name='gweca'\n",
    "    def __init__(self,name,branch,ls_of_subject) :\n",
    "        #instance var\n",
    "        self.student_name=name\n",
    "        self.branch=branch\n",
    "        self.subject=ls_of_subject\n",
    "        #instance method\n",
    "    def display(self):\n",
    "        print(\"my name is \",self.student_name)\n",
    "        print(\"branch is\",self.branch)\n",
    "        print(\"subject are\",self.subject)\n",
    "        print(self.college_name) #we can access\n",
    "        #instance method ko class name s call nhi kr skte\n",
    "        #class method\n",
    "        #cls represent class/ self rep instance \n",
    "        # @classmethod for class method its called decorator\n",
    "    @classmethod\n",
    "    def display2(cls):\n",
    "        # isse class method nhi bnega\n",
    "        print(\"my college is \",cls.college_name)\n",
    "        \n",
    "        #static method\n",
    "        \n",
    "        "
   ]
  },
  {
   "cell_type": "code",
   "execution_count": 21,
   "metadata": {},
   "outputs": [],
   "source": [
    "obj=Student(name='shalu',branch=\"cse\",ls_of_subject=['phy','chem','maths'])"
   ]
  },
  {
   "cell_type": "code",
   "execution_count": 22,
   "metadata": {},
   "outputs": [
    {
     "name": "stdout",
     "output_type": "stream",
     "text": [
      "my name is  shalu\n",
      "branch is cse\n",
      "subject are ['phy', 'chem', 'maths']\n",
      "gweca\n"
     ]
    }
   ],
   "source": [
    "obj.display()\n",
    "#Student.display()  cant access"
   ]
  },
  {
   "cell_type": "code",
   "execution_count": 23,
   "metadata": {},
   "outputs": [
    {
     "name": "stdout",
     "output_type": "stream",
     "text": [
      "my college is  gweca\n"
     ]
    }
   ],
   "source": [
    "obj.display2()  #using instance"
   ]
  },
  {
   "cell_type": "code",
   "execution_count": 24,
   "metadata": {},
   "outputs": [
    {
     "name": "stdout",
     "output_type": "stream",
     "text": [
      "my college is  gweca\n"
     ]
    }
   ],
   "source": [
    "Student.display2() #using class(name) methos from @classmethod"
   ]
  },
  {
   "cell_type": "markdown",
   "metadata": {},
   "source": [
    "## PRACTICE\n"
   ]
  },
  {
   "cell_type": "code",
   "execution_count": 35,
   "metadata": {},
   "outputs": [],
   "source": [
    "class a:\n",
    "    name=\"shalu\"\n",
    "    id=30\n",
    "    city='ajmer'\n",
    "    def __init__(self,company,package,comarea) :\n",
    "        self.company=company\n",
    "        self.package=package\n",
    "        self.comarea=comarea\n",
    "    def identity(self):\n",
    "        print(self.name,self.id,self.city,self.company,self.package,self.comarea)"
   ]
  },
  {
   "cell_type": "code",
   "execution_count": 38,
   "metadata": {},
   "outputs": [],
   "source": [
    "c=a(company='microsoft',package=2000000,comarea='Banglore')"
   ]
  },
  {
   "cell_type": "code",
   "execution_count": 42,
   "metadata": {},
   "outputs": [
    {
     "data": {
      "text/plain": [
       "2000000"
      ]
     },
     "execution_count": 42,
     "metadata": {},
     "output_type": "execute_result"
    }
   ],
   "source": [
    "c.package"
   ]
  },
  {
   "cell_type": "code",
   "execution_count": 44,
   "metadata": {},
   "outputs": [],
   "source": [
    "c.package=2500000"
   ]
  },
  {
   "cell_type": "code",
   "execution_count": 46,
   "metadata": {},
   "outputs": [
    {
     "name": "stdout",
     "output_type": "stream",
     "text": [
      "shalu 30 ajmer microsoft 2500000 Banglore\n"
     ]
    }
   ],
   "source": [
    "c.identity()"
   ]
  },
  {
   "cell_type": "code",
   "execution_count": 39,
   "metadata": {},
   "outputs": [
    {
     "name": "stdout",
     "output_type": "stream",
     "text": [
      "shalu 30 ajmer microsoft 2000000 Banglore\n"
     ]
    }
   ],
   "source": [
    "c.identity()"
   ]
  },
  {
   "cell_type": "code",
   "execution_count": 40,
   "metadata": {},
   "outputs": [
    {
     "data": {
      "text/plain": [
       "'microsoft'"
      ]
     },
     "execution_count": 40,
     "metadata": {},
     "output_type": "execute_result"
    }
   ],
   "source": [
    "c.company"
   ]
  },
  {
   "cell_type": "code",
   "execution_count": 22,
   "metadata": {},
   "outputs": [
    {
     "data": {
      "text/plain": [
       "'ajmer'"
      ]
     },
     "execution_count": 22,
     "metadata": {},
     "output_type": "execute_result"
    }
   ],
   "source": [
    "c.city"
   ]
  },
  {
   "cell_type": "code",
   "execution_count": 7,
   "metadata": {},
   "outputs": [],
   "source": [
    "c.city='jaipur'"
   ]
  },
  {
   "cell_type": "code",
   "execution_count": 8,
   "metadata": {},
   "outputs": [
    {
     "data": {
      "text/plain": [
       "'jaipur'"
      ]
     },
     "execution_count": 8,
     "metadata": {},
     "output_type": "execute_result"
    }
   ],
   "source": [
    "c.city"
   ]
  },
  {
   "cell_type": "code",
   "execution_count": 9,
   "metadata": {},
   "outputs": [
    {
     "data": {
      "text/plain": [
       "'ajmer'"
      ]
     },
     "execution_count": 9,
     "metadata": {},
     "output_type": "execute_result"
    }
   ],
   "source": [
    "a.city"
   ]
  }
 ],
 "metadata": {
  "kernelspec": {
   "display_name": "Python 3",
   "language": "python",
   "name": "python3"
  },
  "language_info": {
   "codemirror_mode": {
    "name": "ipython",
    "version": 3
   },
   "file_extension": ".py",
   "mimetype": "text/x-python",
   "name": "python",
   "nbconvert_exporter": "python",
   "pygments_lexer": "ipython3",
   "version": "3.12.4"
  }
 },
 "nbformat": 4,
 "nbformat_minor": 2
}
